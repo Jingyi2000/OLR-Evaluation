{
 "cells": [
  {
   "cell_type": "markdown",
   "id": "7b7329de",
   "metadata": {},
   "source": [
    "# OCR-D Installation Guide (for Mac)"
   ]
  },
  {
   "cell_type": "markdown",
   "id": "1fb6ed49",
   "metadata": {},
   "source": [
    "This document provides steps for installing OCR-D on macOS systems. OCR-D is a tool for optical character recognition of documents."
   ]
  },
  {
   "cell_type": "markdown",
   "id": "d41ebb20",
   "metadata": {},
   "source": [
    "## Step 1: Installing Docker\n",
    "Docker is a platform that enables software to run in isolated environments called containers.\n",
    "\n",
    "**Instructions**: Download and install Docker Desktop from the [Docker website](https://www.docker.com/products/docker-desktop/).\n",
    "\n",
    "**Purpose**: Docker is required to run OCR-D within a container, ensuring a consistent environment that's isolated from the system."
   ]
  },
  {
   "cell_type": "markdown",
   "id": "6df68971",
   "metadata": {},
   "source": [
    "## Step 3: Running OCR-D Docker Container\n",
    "**Purpose**: The following command pulls the OCR-D Docker image and runs it in an interactive container."
   ]
  },
  {
   "cell_type": "code",
   "execution_count": null,
   "id": "513ad689",
   "metadata": {},
   "outputs": [],
   "source": [
    "docker run -it --rm ocrd/all:maximum"
   ]
  },
  {
   "cell_type": "markdown",
   "id": "7d0531c5",
   "metadata": {},
   "source": [
    "## Step 4: Verifying OCR-D Installation\n",
    "**Purpose**: To check the installed version of OCR-D."
   ]
  },
  {
   "cell_type": "code",
   "execution_count": null,
   "id": "7c28f485",
   "metadata": {},
   "outputs": [],
   "source": [
    "ocrd --version"
   ]
  },
  {
   "cell_type": "markdown",
   "id": "78abe964",
   "metadata": {},
   "source": [
    "After running the ocrd --version command and confirming that OCR-D has been successfully installed and is running in the Docker container, you can proceed to read OCR-D's official documentation. This will help you understand the different OCR-D tools and their purposes, as well as learn about the OCR-D workflow, including how to configure and use various processing steps."
   ]
  }
 ],
 "metadata": {
  "kernelspec": {
   "display_name": "Python 3 (ipykernel)",
   "language": "python",
   "name": "python3"
  },
  "language_info": {
   "codemirror_mode": {
    "name": "ipython",
    "version": 3
   },
   "file_extension": ".py",
   "mimetype": "text/x-python",
   "name": "python",
   "nbconvert_exporter": "python",
   "pygments_lexer": "ipython3",
   "version": "3.10.13"
  }
 },
 "nbformat": 4,
 "nbformat_minor": 5
}
